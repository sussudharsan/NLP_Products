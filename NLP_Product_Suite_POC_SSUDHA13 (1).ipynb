{
 "cells": [
  {
   "cell_type": "markdown",
   "metadata": {},
   "source": [
    "# Goal\n",
    "\n",
    "Steps:  \n",
    "1 - Take a sample text data - load it\n",
    "    Prepare all the charts and insights to be generated\n",
    "\n",
    "2 - Modularize and functionize the approach\n",
    "\n",
    "3 - Bring in upgraded functions and loading methods\n",
    "\n",
    "4 - Build complete backend"
   ]
  },
  {
   "cell_type": "markdown",
   "metadata": {},
   "source": [
    "## Step 1"
   ]
  },
  {
   "cell_type": "markdown",
   "metadata": {},
   "source": [
    "### 1.A Data Ingestion - IMDB data"
   ]
  },
  {
   "cell_type": "code",
   "execution_count": 106,
   "metadata": {},
   "outputs": [],
   "source": [
    "import pandas as pd\n",
    "import numpy as np\n",
    "from langdetect import detect\n",
    "from langdetect import DetectorFactory\n",
    "from google_trans_new import google_translator  \n",
    "import google_trans_new as gtn\n",
    "DetectorFactory.seed = 0\n",
    "\n",
    "from PIL import Image\n",
    "from wordcloud import WordCloud, STOPWORDS, ImageColorGenerator\n",
    "import matplotlib.pyplot as plt\n",
    "#% matplotlib inline\n",
    "\n",
    "import warnings\n",
    "warnings.filterwarnings('ignore')"
   ]
  },
  {
   "cell_type": "code",
   "execution_count": 52,
   "metadata": {
    "scrolled": false
   },
   "outputs": [
    {
     "data": {
      "text/html": [
       "<div>\n",
       "<style scoped>\n",
       "    .dataframe tbody tr th:only-of-type {\n",
       "        vertical-align: middle;\n",
       "    }\n",
       "\n",
       "    .dataframe tbody tr th {\n",
       "        vertical-align: top;\n",
       "    }\n",
       "\n",
       "    .dataframe thead th {\n",
       "        text-align: right;\n",
       "    }\n",
       "</style>\n",
       "<table border=\"1\" class=\"dataframe\">\n",
       "  <thead>\n",
       "    <tr style=\"text-align: right;\">\n",
       "      <th></th>\n",
       "      <th>review</th>\n",
       "      <th>sentiment</th>\n",
       "    </tr>\n",
       "  </thead>\n",
       "  <tbody>\n",
       "    <tr>\n",
       "      <th>0</th>\n",
       "      <td>One of the other reviewers has mentioned that ...</td>\n",
       "      <td>positive</td>\n",
       "    </tr>\n",
       "    <tr>\n",
       "      <th>1</th>\n",
       "      <td>A wonderful little production. &lt;br /&gt;&lt;br /&gt;The...</td>\n",
       "      <td>positive</td>\n",
       "    </tr>\n",
       "    <tr>\n",
       "      <th>2</th>\n",
       "      <td>I thought this was a wonderful way to spend ti...</td>\n",
       "      <td>positive</td>\n",
       "    </tr>\n",
       "    <tr>\n",
       "      <th>3</th>\n",
       "      <td>Basically there's a family where a little boy ...</td>\n",
       "      <td>negative</td>\n",
       "    </tr>\n",
       "    <tr>\n",
       "      <th>4</th>\n",
       "      <td>Petter Mattei's \"Love in the Time of Money\" is...</td>\n",
       "      <td>positive</td>\n",
       "    </tr>\n",
       "  </tbody>\n",
       "</table>\n",
       "</div>"
      ],
      "text/plain": [
       "                                              review sentiment\n",
       "0  One of the other reviewers has mentioned that ...  positive\n",
       "1  A wonderful little production. <br /><br />The...  positive\n",
       "2  I thought this was a wonderful way to spend ti...  positive\n",
       "3  Basically there's a family where a little boy ...  negative\n",
       "4  Petter Mattei's \"Love in the Time of Money\" is...  positive"
      ]
     },
     "execution_count": 52,
     "metadata": {},
     "output_type": "execute_result"
    }
   ],
   "source": [
    "txtdat = pd.read_csv('IMDB_Dataset.csv')\n",
    "txtdat.head()"
   ]
  },
  {
   "cell_type": "code",
   "execution_count": 53,
   "metadata": {},
   "outputs": [],
   "source": [
    "# Some manipulation to data\n",
    "txtdat['review'][0] = 'மற்ற விமர்சகர்களில் ஒருவர் 1 அவுஸ் எபிசோடைப் பார்த்த பிறகு நீங்கள் கவர்ந்துவிடுவீர்கள் என்று குறிப்பிட்டுள்ளார். அவர்கள் சொல்வது சரிதான், ஏனெனில் இதுவே எனக்கு நடந்தது.<br /><br />ஓஸைப் பற்றி முதலில் என்னைத் தாக்கியது அதன் மிருகத்தனம் மற்றும் GO என்ற வார்த்தையிலிருந்து சரியாக அமைந்த வன்முறையின் அசைக்க முடியாத காட்சிகள். என்னை நம்புங்கள், இது மந்தமான உள்ளம் அல்லது கூச்ச சுபாவமுள்ளவர்களுக்கான நிகழ்ச்சி அல்ல. இந்த நிகழ்ச்சி போதைப்பொருள், பாலியல் அல்லது வன்முறை தொடர்பாக எந்த குத்துக்களையும் இழுக்கவில்லை. இந்த வார்த்தையின் உன்னதமான பயன்பாட்டில் இது ஹார்ட்கோர் ஆகும்.<br /><br />ஓஸ்வால்ட் அதிகபட்ச பாதுகாப்பு மாநில சிறைச்சாலைக்கு வழங்கப்பட்ட புனைப்பெயர் என்பதால் இது OZ என்று அழைக்கப்படுகிறது. இது முக்கியமாக எமரால்டு சிட்டியில் கவனம் செலுத்துகிறது, சிறைச்சாலையின் ஒரு சோதனைப் பிரிவானது, அங்கு அனைத்து அறைகளும் கண்ணாடி முன்பக்கமும் உள்நோக்கியும் இருக்கும், எனவே நிகழ்ச்சி நிரலில் தனியுரிமை அதிகமாக இல்லை. எம் சிட்டி பலரின் தாயகமாக உள்ளது..ஆரியர்கள், முஸ்லிம்கள், கும்பல்கள், லத்தினோக்கள், கிறிஸ்தவர்கள், இத்தாலியர்கள், ஐரிஷ்கள் மற்றும் பல....எனவே சண்டைகள், மரண வெறிகள், கேவலமான பரிவர்த்தனைகள் மற்றும் நிழலான ஒப்பந்தங்கள் ஒருபோதும் தொலைவில் இல்லை.<br /><br / > மற்ற நிகழ்ச்சிகள் தைரியமில்லாத இடத்திற்குச் செல்வதுதான் நிகழ்ச்சியின் முக்கிய ஈர்ப்பு என்று நான் கூறுவேன். முக்கிய பார்வையாளர்களுக்காக வரையப்பட்ட அழகான படங்களை மறந்துவிடு, அழகை மறந்துவிடு, காதலை மறந்துவிடு...OZ குழப்பமடையவில்லை. நான் பார்த்த முதல் எபிசோட் என்னை மிகவும் மோசமாக தாக்கியது, அது மிக மோசமானதாக இருந்தது, நான் அதற்கு தயாராக இருக்கிறேன் என்று சொல்ல முடியாது, ஆனால் நான் அதிகமாக பார்த்தபோது, ​​​​நான் Oz மீதான ரசனையை வளர்த்துக் கொண்டேன், மேலும் அதிக அளவிலான கிராஃபிக் வன்முறைக்கு பழகிவிட்டேன். வன்முறை மட்டுமல்ல, அநியாயமும் (நிக்கலுக்கு விற்கப்படும் வக்கிரக் காவலர்கள், உத்தரவின் பேரில் கொலை செய்து தப்பித்துக்கொள்ளும் கைதிகள், நல்ல நடத்தையுள்ள, நடுத்தர வர்க்க கைதிகள் தெருத் திறமையின்மையால் சிறைக் குட்டிகளாக மாற்றப்படுகிறார்கள். அல்லது சிறை அனுபவம்) ஓஸைப் பார்ப்பது, சங்கடமான பார்வையில் உங்களுக்கு வசதியாக இருக்கலாம்....உங்கள் இருண்ட பக்கத்தை நீங்கள் தொடர்பு கொள்ள முடிந்தால்.'\n",
    "\n",
    "txtdat['conti_col'] = np.random.randint(1, 5, txtdat.shape[0])\n",
    "\n",
    "txtdat['review'][121] = np.nan\n",
    "txtdat['review'][21] = np.nan\n",
    "txtdat['review'][78] = np.nan\n",
    "txtdat['sentiment'][10] = np.nan\n"
   ]
  },
  {
   "cell_type": "code",
   "execution_count": 30,
   "metadata": {},
   "outputs": [],
   "source": [
    "# Output file\n",
    "file_name = 'automated_insights_analysis.xlsx'\n",
    "insi = pd.ExcelWriter(file_name, engine='xlsxwriter')"
   ]
  },
  {
   "cell_type": "markdown",
   "metadata": {},
   "source": [
    "### 1.B Additional information on data"
   ]
  },
  {
   "cell_type": "markdown",
   "metadata": {},
   "source": [
    "#### Subset of data"
   ]
  },
  {
   "cell_type": "markdown",
   "metadata": {},
   "source": [
    "The ability to fitler rows and columns based on condition.\n",
    "\n",
    "First --> select row or column to be filtered\n",
    "Second --> select filter type --> id, condition, names\n",
    "Third --> Apply the filters and give conditions"
   ]
  },
  {
   "cell_type": "code",
   "execution_count": 6,
   "metadata": {},
   "outputs": [],
   "source": [
    "# TBD"
   ]
  },
  {
   "cell_type": "code",
   "execution_count": 96,
   "metadata": {},
   "outputs": [],
   "source": []
  },
  {
   "cell_type": "code",
   "execution_count": null,
   "metadata": {},
   "outputs": [],
   "source": []
  },
  {
   "cell_type": "markdown",
   "metadata": {},
   "source": [
    "#### Language Translation"
   ]
  },
  {
   "cell_type": "markdown",
   "metadata": {},
   "source": [
    "Give output language and select columns to be translated"
   ]
  },
  {
   "cell_type": "code",
   "execution_count": 3,
   "metadata": {},
   "outputs": [],
   "source": [
    "#simple function to detect and translate text \n",
    "def detect_and_translate(text,target_lang):\n",
    "    \n",
    "    result_lang = detect(text)\n",
    "    \n",
    "    if result_lang == target_lang:\n",
    "        return text \n",
    "    \n",
    "    else:\n",
    "        translator = google_translator()\n",
    "        translate_text = translator.translate(text,lang_src=result_lang,lang_tgt=target_lang)\n",
    "        return translate_text "
   ]
  },
  {
   "cell_type": "code",
   "execution_count": 7,
   "metadata": {},
   "outputs": [
    {
     "data": {
      "text/html": [
       "<div>\n",
       "<style scoped>\n",
       "    .dataframe tbody tr th:only-of-type {\n",
       "        vertical-align: middle;\n",
       "    }\n",
       "\n",
       "    .dataframe tbody tr th {\n",
       "        vertical-align: top;\n",
       "    }\n",
       "\n",
       "    .dataframe thead th {\n",
       "        text-align: right;\n",
       "    }\n",
       "</style>\n",
       "<table border=\"1\" class=\"dataframe\">\n",
       "  <thead>\n",
       "    <tr style=\"text-align: right;\">\n",
       "      <th></th>\n",
       "      <th>review</th>\n",
       "      <th>sentiment</th>\n",
       "    </tr>\n",
       "  </thead>\n",
       "  <tbody>\n",
       "    <tr>\n",
       "      <th>0</th>\n",
       "      <td>மற்ற விமர்சகர்களில் ஒருவர் 1 அவுஸ் எபிசோடைப் ப...</td>\n",
       "      <td>positive</td>\n",
       "    </tr>\n",
       "    <tr>\n",
       "      <th>1</th>\n",
       "      <td>A wonderful little production. &lt;br /&gt;&lt;br /&gt;The...</td>\n",
       "      <td>positive</td>\n",
       "    </tr>\n",
       "    <tr>\n",
       "      <th>2</th>\n",
       "      <td>I thought this was a wonderful way to spend ti...</td>\n",
       "      <td>positive</td>\n",
       "    </tr>\n",
       "    <tr>\n",
       "      <th>3</th>\n",
       "      <td>Basically there's a family where a little boy ...</td>\n",
       "      <td>negative</td>\n",
       "    </tr>\n",
       "    <tr>\n",
       "      <th>4</th>\n",
       "      <td>Petter Mattei's \"Love in the Time of Money\" is...</td>\n",
       "      <td>positive</td>\n",
       "    </tr>\n",
       "  </tbody>\n",
       "</table>\n",
       "</div>"
      ],
      "text/plain": [
       "                                              review sentiment\n",
       "0  மற்ற விமர்சகர்களில் ஒருவர் 1 அவுஸ் எபிசோடைப் ப...  positive\n",
       "1  A wonderful little production. <br /><br />The...  positive\n",
       "2  I thought this was a wonderful way to spend ti...  positive\n",
       "3  Basically there's a family where a little boy ...  negative\n",
       "4  Petter Mattei's \"Love in the Time of Money\" is...  positive"
      ]
     },
     "execution_count": 7,
     "metadata": {},
     "output_type": "execute_result"
    }
   ],
   "source": [
    "txtdat.head()"
   ]
  },
  {
   "cell_type": "code",
   "execution_count": 8,
   "metadata": {},
   "outputs": [],
   "source": [
    "txtdat['review'] = txtdat['review'].apply(detect_and_translate,target_lang='en')"
   ]
  },
  {
   "cell_type": "code",
   "execution_count": 10,
   "metadata": {
    "scrolled": true
   },
   "outputs": [
    {
     "data": {
      "text/html": [
       "<div>\n",
       "<style scoped>\n",
       "    .dataframe tbody tr th:only-of-type {\n",
       "        vertical-align: middle;\n",
       "    }\n",
       "\n",
       "    .dataframe tbody tr th {\n",
       "        vertical-align: top;\n",
       "    }\n",
       "\n",
       "    .dataframe thead th {\n",
       "        text-align: right;\n",
       "    }\n",
       "</style>\n",
       "<table border=\"1\" class=\"dataframe\">\n",
       "  <thead>\n",
       "    <tr style=\"text-align: right;\">\n",
       "      <th></th>\n",
       "      <th>review</th>\n",
       "      <th>sentiment</th>\n",
       "    </tr>\n",
       "  </thead>\n",
       "  <tbody>\n",
       "    <tr>\n",
       "      <th>0</th>\n",
       "      <td>One of the other critics noted that you will b...</td>\n",
       "      <td>positive</td>\n",
       "    </tr>\n",
       "    <tr>\n",
       "      <th>1</th>\n",
       "      <td>A wonderful little production. &lt;br /&gt;&lt;br /&gt;The...</td>\n",
       "      <td>positive</td>\n",
       "    </tr>\n",
       "    <tr>\n",
       "      <th>2</th>\n",
       "      <td>I thought this was a wonderful way to spend ti...</td>\n",
       "      <td>positive</td>\n",
       "    </tr>\n",
       "    <tr>\n",
       "      <th>3</th>\n",
       "      <td>Basically there's a family where a little boy ...</td>\n",
       "      <td>negative</td>\n",
       "    </tr>\n",
       "    <tr>\n",
       "      <th>4</th>\n",
       "      <td>Petter Mattei's \"Love in the Time of Money\" is...</td>\n",
       "      <td>positive</td>\n",
       "    </tr>\n",
       "  </tbody>\n",
       "</table>\n",
       "</div>"
      ],
      "text/plain": [
       "                                              review sentiment\n",
       "0  One of the other critics noted that you will b...  positive\n",
       "1  A wonderful little production. <br /><br />The...  positive\n",
       "2  I thought this was a wonderful way to spend ti...  positive\n",
       "3  Basically there's a family where a little boy ...  negative\n",
       "4  Petter Mattei's \"Love in the Time of Money\" is...  positive"
      ]
     },
     "execution_count": 10,
     "metadata": {},
     "output_type": "execute_result"
    }
   ],
   "source": [
    "txtdat.head()"
   ]
  },
  {
   "cell_type": "code",
   "execution_count": 31,
   "metadata": {},
   "outputs": [],
   "source": [
    "# add a condition to include this only when translate function is called\n",
    "txtdat.to_excel(insi, sheet_name='Translated_Subset')"
   ]
  },
  {
   "cell_type": "markdown",
   "metadata": {},
   "source": [
    "#### Acknowledging Data Types"
   ]
  },
  {
   "cell_type": "code",
   "execution_count": 13,
   "metadata": {},
   "outputs": [
    {
     "name": "stdout",
     "output_type": "stream",
     "text": [
      "<class 'pandas.core.frame.DataFrame'>\n",
      "RangeIndex: 50000 entries, 0 to 49999\n",
      "Data columns (total 2 columns):\n",
      " #   Column     Non-Null Count  Dtype \n",
      "---  ------     --------------  ----- \n",
      " 0   review     50000 non-null  object\n",
      " 1   sentiment  50000 non-null  object\n",
      "dtypes: object(2)\n",
      "memory usage: 781.4+ KB\n"
     ]
    },
    {
     "data": {
      "text/html": [
       "<div>\n",
       "<style scoped>\n",
       "    .dataframe tbody tr th:only-of-type {\n",
       "        vertical-align: middle;\n",
       "    }\n",
       "\n",
       "    .dataframe tbody tr th {\n",
       "        vertical-align: top;\n",
       "    }\n",
       "\n",
       "    .dataframe thead th {\n",
       "        text-align: right;\n",
       "    }\n",
       "</style>\n",
       "<table border=\"1\" class=\"dataframe\">\n",
       "  <thead>\n",
       "    <tr style=\"text-align: right;\">\n",
       "      <th></th>\n",
       "    </tr>\n",
       "  </thead>\n",
       "  <tbody>\n",
       "  </tbody>\n",
       "</table>\n",
       "</div>"
      ],
      "text/plain": [
       "Empty DataFrame\n",
       "Columns: []\n",
       "Index: []"
      ]
     },
     "execution_count": 13,
     "metadata": {},
     "output_type": "execute_result"
    }
   ],
   "source": [
    "pd.DataFrame(txtdat.info())"
   ]
  },
  {
   "cell_type": "code",
   "execution_count": 29,
   "metadata": {},
   "outputs": [
    {
     "data": {
      "text/html": [
       "<div>\n",
       "<style scoped>\n",
       "    .dataframe tbody tr th:only-of-type {\n",
       "        vertical-align: middle;\n",
       "    }\n",
       "\n",
       "    .dataframe tbody tr th {\n",
       "        vertical-align: top;\n",
       "    }\n",
       "\n",
       "    .dataframe thead th {\n",
       "        text-align: right;\n",
       "    }\n",
       "</style>\n",
       "<table border=\"1\" class=\"dataframe\">\n",
       "  <thead>\n",
       "    <tr style=\"text-align: right;\">\n",
       "      <th></th>\n",
       "      <th>Column_Name</th>\n",
       "      <th>Data_Type</th>\n",
       "    </tr>\n",
       "  </thead>\n",
       "  <tbody>\n",
       "    <tr>\n",
       "      <th>0</th>\n",
       "      <td>review</td>\n",
       "      <td>object</td>\n",
       "    </tr>\n",
       "    <tr>\n",
       "      <th>1</th>\n",
       "      <td>sentiment</td>\n",
       "      <td>object</td>\n",
       "    </tr>\n",
       "  </tbody>\n",
       "</table>\n",
       "</div>"
      ],
      "text/plain": [
       "  Column_Name Data_Type\n",
       "0      review    object\n",
       "1   sentiment    object"
      ]
     },
     "execution_count": 29,
     "metadata": {},
     "output_type": "execute_result"
    }
   ],
   "source": [
    "datype = pd.DataFrame(txtdat.dtypes).reset_index()\n",
    "datype.columns = ['Column_Name','Data_Type']\n",
    "datype"
   ]
  },
  {
   "cell_type": "code",
   "execution_count": 32,
   "metadata": {},
   "outputs": [],
   "source": [
    "datype.to_excel(insi, sheet_name='Final_Datatypes')"
   ]
  },
  {
   "cell_type": "markdown",
   "metadata": {},
   "source": [
    "### 1.C Basic Insights"
   ]
  },
  {
   "cell_type": "markdown",
   "metadata": {},
   "source": [
    "#### Data Summary"
   ]
  },
  {
   "cell_type": "markdown",
   "metadata": {},
   "source": [
    "#Columns, #Rows, #Unique_Values, Data_Type, Distribution Summary for continuous variables, #Null values under each columns"
   ]
  },
  {
   "cell_type": "code",
   "execution_count": 99,
   "metadata": {},
   "outputs": [],
   "source": [
    "def summary(dataf):\n",
    "    sumy1 = pd.DataFrame(dataf.shape)\n",
    "    sumy1.insert(0,'Dataframe_Shape',['No_of_rows','No_of_Columns'])\n",
    "    \n",
    "    sumy2 = pd.concat([pd.DataFrame(dataf.nunique()),pd.DataFrame(dataf.dtypes),dataf.isnull().sum()],axis=1).reset_index()\n",
    "    sumy2.columns = ['Column_Name','No_Unique_Values','Data_Type','Count_Null_Values']\n",
    "    \n",
    "    sumy3 = dataf.select_dtypes(include = ['int16', 'int32', 'int64', 'float16', 'float32', 'float64']).describe().reset_index()\n",
    "    sumy3.columns.values[0] = 'Metric'\n",
    "    \n",
    "    def multiple_dfs(df_list, sheets,filename, spaces):\n",
    "        #writer = pd.ExcelWriter(file_name,engine='xlsxwriter')   \n",
    "        row = 0\n",
    "        for dataframe in df_list:\n",
    "            dataframe.to_excel(insi,sheet_name='Basic_Insights_1',startrow=row , startcol=0)   \n",
    "            row = row + len(dataframe.index) + spaces + 1\n",
    "        #writer.save()\n",
    "\n",
    "    # list of dataframes\n",
    "    dfs = [sumy1,sumy2,sumy3]\n",
    "\n",
    "    # run function\n",
    "    multiple_dfs(dfs, 'Basic_Insights_1',file_name, 1)\n",
    "    return print('success')"
   ]
  },
  {
   "cell_type": "code",
   "execution_count": 100,
   "metadata": {
    "scrolled": true
   },
   "outputs": [
    {
     "name": "stdout",
     "output_type": "stream",
     "text": [
      "success\n"
     ]
    }
   ],
   "source": [
    "summary(txtdat)"
   ]
  },
  {
   "cell_type": "markdown",
   "metadata": {},
   "source": [
    "#### Basic Visualisations"
   ]
  },
  {
   "cell_type": "code",
   "execution_count": 107,
   "metadata": {
    "scrolled": true
   },
   "outputs": [
    {
     "data": {
      "image/png": "[encoded data removed]",
      "text/plain": [
       "<Figure size 432x288 with 1 Axes>"
      ]
     },
     "metadata": {
      "needs_background": "light"
     },
     "output_type": "display_data"
    }
   ],
   "source": [
    "# Word Cloud\n",
    "wordcloud = WordCloud().generate(str(txtdat['review'].values))\n",
    "\n",
    "plt.imshow(wordcloud)\n",
    "plt.axis(\"off\")\n",
    "plt.show()"
   ]
  },
  {
   "cell_type": "markdown",
   "metadata": {},
   "source": [
    "Word X Count Graph\n",
    "\n",
    "For this the nulls have to be replaced with 'blank' or have to be dropped"
   ]
  },
  {
   "cell_type": "code",
   "execution_count": 111,
   "metadata": {},
   "outputs": [],
   "source": [
    "txtdat['review'].fillna('blank',inplace=True)\n",
    "txtdat['sentiment'].fillna('blank',inplace=True)"
   ]
  },
  {
   "cell_type": "code",
   "execution_count": null,
   "metadata": {},
   "outputs": [],
   "source": [
    "\n",
    "text= ' '.join(t for t in txtdat['review'])\n",
    "words_list= text.split()\n",
    "\n",
    "word_freq= {}\n",
    "for word in set(words_list):\n",
    "    word_freq[word]= words_list.count(word)\n",
    "#Creating dataframe of words\n",
    "df_word= pd.DataFrame(word_freq.items(),columns=['word','count'])\n",
    "\n",
    "df_word['word_len']= df_word['word'].map(lambda x: len(x))\n",
    "# sorting values \n",
    "df_word=df_word.sort_values('count',ascending=False).reset_index(drop=True)\n",
    "df_word"
   ]
  },
  {
   "cell_type": "code",
   "execution_count": null,
   "metadata": {},
   "outputs": [],
   "source": [
    "df_top= df_word.head(50)\n",
    "sns.barplot(df_top['count'],df_top['word'])"
   ]
  },
  {
   "cell_type": "code",
   "execution_count": null,
   "metadata": {},
   "outputs": [],
   "source": []
  },
  {
   "cell_type": "code",
   "execution_count": null,
   "metadata": {},
   "outputs": [],
   "source": []
  },
  {
   "cell_type": "code",
   "execution_count": null,
   "metadata": {},
   "outputs": [],
   "source": []
  },
  {
   "cell_type": "code",
   "execution_count": null,
   "metadata": {},
   "outputs": [],
   "source": []
  },
  {
   "cell_type": "code",
   "execution_count": 101,
   "metadata": {},
   "outputs": [],
   "source": [
    "# Save excel\n",
    "insi.save()"
   ]
  },
  {
   "cell_type": "code",
   "execution_count": null,
   "metadata": {},
   "outputs": [],
   "source": []
  }
 ],
 "metadata": {
  "kernelspec": {
   "display_name": "Python 3",
   "language": "python",
   "name": "python3"
  },
  "language_info": {
   "codemirror_mode": {
    "name": "ipython",
    "version": 3
   },
   "file_extension": ".py",
   "mimetype": "text/x-python",
   "name": "python",
   "nbconvert_exporter": "python",
   "pygments_lexer": "ipython3",
   "version": "3.8.5"
  }
 },
 "nbformat": 4,
 "nbformat_minor": 4
}
